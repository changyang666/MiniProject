{
 "cells": [
  {
   "cell_type": "markdown",
   "id": "4818abae",
   "metadata": {},
   "source": [
    "## Q1"
   ]
  },
  {
   "cell_type": "code",
   "execution_count": 1,
   "id": "04dec407",
   "metadata": {},
   "outputs": [],
   "source": [
    "def odd_even(x):\n",
    "    if isinstance(x, int):\n",
    "        if x == 0:\n",
    "            print(\"0 is neither even or odd\")\n",
    "        elif x // 2 == 0:\n",
    "            print(f\"{x} is an even number\")\n",
    "        else:\n",
    "            print(f\"{x} is an odd number\")\n",
    "    else:\n",
    "        print(f\"{x} is not an integer\")"
   ]
  },
  {
   "cell_type": "code",
   "execution_count": 22,
   "id": "58b66d0f",
   "metadata": {},
   "outputs": [
    {
     "name": "stdout",
     "output_type": "stream",
     "text": [
      "0 is neither even or odd\n",
      "1 is an even number\n",
      "2 is an odd number\n",
      "2.5 is not an integer\n"
     ]
    }
   ],
   "source": [
    "odd_even(0)\n",
    "odd_even(1)\n",
    "odd_even(2)\n",
    "odd_even(2.5)"
   ]
  },
  {
   "cell_type": "markdown",
   "id": "5da74327",
   "metadata": {},
   "source": [
    "## Q2"
   ]
  },
  {
   "cell_type": "code",
   "execution_count": 3,
   "id": "c2b4a360",
   "metadata": {},
   "outputs": [],
   "source": [
    "import numpy as np\n",
    "import time\n",
    "\n",
    "large_n = 1e6 # 1M\n",
    "\n",
    "\n",
    "np_arr = np.arange(large_n)\n",
    "list_arr = list(range(int(large_n)))"
   ]
  },
  {
   "cell_type": "code",
   "execution_count": 4,
   "id": "3fcf6b09",
   "metadata": {},
   "outputs": [
    {
     "name": "stdout",
     "output_type": "stream",
     "text": [
      "[0. 1. 2. 3. 4.]\n",
      "[0, 1, 2, 3, 4]\n"
     ]
    }
   ],
   "source": [
    "print(np_arr[:5])\n",
    "print(list_arr[:5])"
   ]
  },
  {
   "cell_type": "code",
   "execution_count": 5,
   "id": "3e7027e1",
   "metadata": {},
   "outputs": [
    {
     "name": "stdout",
     "output_type": "stream",
     "text": [
      "2.62 ms ± 50.1 µs per loop (mean ± std. dev. of 7 runs, 100 loops each)\n"
     ]
    }
   ],
   "source": [
    "%timeit res = 2*np_arr # shorter computation time"
   ]
  },
  {
   "cell_type": "code",
   "execution_count": 6,
   "id": "46a4253b",
   "metadata": {},
   "outputs": [
    {
     "name": "stdout",
     "output_type": "stream",
     "text": [
      "17.7 ms ± 621 µs per loop (mean ± std. dev. of 7 runs, 100 loops each)\n"
     ]
    }
   ],
   "source": [
    "%timeit res = 2* list_arr # longer computation time"
   ]
  },
  {
   "cell_type": "markdown",
   "id": "e0bb4d8a",
   "metadata": {},
   "source": [
    "numpy array are more efficient than list array proven"
   ]
  },
  {
   "cell_type": "markdown",
   "id": "08966846",
   "metadata": {},
   "source": [
    "## Q3"
   ]
  },
  {
   "cell_type": "code",
   "execution_count": 8,
   "id": "df2dc7b7",
   "metadata": {},
   "outputs": [
    {
     "name": "stdout",
     "output_type": "stream",
     "text": [
      "[0 1 2 3 4 5 6 7 8 9]\n",
      "[ 0  1  2  3 25 25 25  7  8  9]\n",
      "[-1 25 25]\n",
      "[ 0  1  2  3 -1 25 25  7  8  9]\n"
     ]
    }
   ],
   "source": [
    "my_arr = np.arange(10)\n",
    "print(my_arr)\n",
    "\n",
    "my_arr[4:7] = 25\n",
    "print(my_arr)\n",
    "\n",
    "arr_slice = my_arr[4:7] ## this is not a copy of the slice\n",
    "\n",
    "# Change the first element of arr_slice to -1\n",
    "arr_slice[0]= -1\n",
    "\n",
    "print(arr_slice)\n",
    "print(my_arr) # value of the first 25 changed to -1"
   ]
  },
  {
   "cell_type": "markdown",
   "id": "467aaea5",
   "metadata": {},
   "source": [
    "when the value of arr_slice change, the value in my_arr will change too"
   ]
  },
  {
   "cell_type": "markdown",
   "id": "59acc0fb",
   "metadata": {},
   "source": [
    "#### Solution: create a copy instead of a view"
   ]
  },
  {
   "cell_type": "code",
   "execution_count": 17,
   "id": "65c46da0",
   "metadata": {},
   "outputs": [
    {
     "name": "stdout",
     "output_type": "stream",
     "text": [
      "[20 25 25]\n",
      "[ 0  1  2  3 -1 25 25  7  8  9]\n"
     ]
    }
   ],
   "source": [
    "arr_slice1 = my_arr[4:7].copy()\n",
    "arr_slice1[0] = 20\n",
    "\n",
    "print(arr_slice1)\n",
    "print(my_arr) # the value in my_arr is not changed"
   ]
  },
  {
   "cell_type": "markdown",
   "id": "67dee29e",
   "metadata": {},
   "source": [
    "## Q4"
   ]
  },
  {
   "cell_type": "code",
   "execution_count": 10,
   "id": "486f7d18",
   "metadata": {},
   "outputs": [
    {
     "data": {
      "text/plain": [
       "numpy.ndarray"
      ]
     },
     "execution_count": 10,
     "metadata": {},
     "output_type": "execute_result"
    }
   ],
   "source": [
    "import matplotlib.pyplot as plt\n",
    "import math\n",
    "\n",
    "pic = np.zeros((200, 200)) # create a numpy array of 200* 200 pixel\n",
    "pic = np.uint8(pic)\n",
    "\n",
    "type(pic)"
   ]
  },
  {
   "cell_type": "code",
   "execution_count": 18,
   "id": "813e813d",
   "metadata": {},
   "outputs": [],
   "source": [
    "# determine the radius of the circle\n",
    "\n",
    "radius = 50 # 50 px from center of pic"
   ]
  },
  {
   "cell_type": "markdown",
   "id": "5e1d6e4c",
   "metadata": {},
   "source": [
    "### Define distance formula"
   ]
  },
  {
   "cell_type": "code",
   "execution_count": 12,
   "id": "986e9728",
   "metadata": {},
   "outputs": [],
   "source": [
    "def distance(x, y, x_center, y_center):\n",
    "    return math.sqrt(((x - x_center)**2) + ((y - y_center)**2))"
   ]
  },
  {
   "cell_type": "markdown",
   "id": "abae1c67",
   "metadata": {},
   "source": [
    "##### Loop through every pixel of the picture"
   ]
  },
  {
   "cell_type": "code",
   "execution_count": 19,
   "id": "96cae484",
   "metadata": {},
   "outputs": [],
   "source": [
    "for i in range (200):\n",
    "    for j in range (200): # loop through every pixel of the picture\n",
    "        if (distance(i, j, 100, 100) < radius): # if distance < 50 from center\n",
    "            pic[i, j] = 1  # 0 -> 1"
   ]
  },
  {
   "cell_type": "markdown",
   "id": "a6abb333",
   "metadata": {},
   "source": [
    "##### make every pixel with value 1 become 255"
   ]
  },
  {
   "cell_type": "code",
   "execution_count": 20,
   "id": "cc6909ae",
   "metadata": {},
   "outputs": [],
   "source": [
    "pic = 255 * pic"
   ]
  },
  {
   "cell_type": "markdown",
   "id": "bb3804ea",
   "metadata": {},
   "source": [
    "#### Show image"
   ]
  },
  {
   "cell_type": "code",
   "execution_count": 21,
   "id": "a3122fa9",
   "metadata": {},
   "outputs": [
    {
     "data": {
      "text/plain": [
       "<matplotlib.image.AxesImage at 0x1acbdf55d90>"
      ]
     },
     "execution_count": 21,
     "metadata": {},
     "output_type": "execute_result"
    },
    {
     "data": {
      "image/png": "[encoded data removed]",
      "text/plain": [
       "<Figure size 640x480 with 1 Axes>"
      ]
     },
     "metadata": {},
     "output_type": "display_data"
    }
   ],
   "source": [
    "plt.imshow(pic, cmap=plt.cm.gray, vmin=0, vmax=255)"
   ]
  }
 ],
 "metadata": {
  "kernelspec": {
   "display_name": "Python 3 (ipykernel)",
   "language": "python",
   "name": "python3"
  },
  "language_info": {
   "codemirror_mode": {
    "name": "ipython",
    "version": 3
   },
   "file_extension": ".py",
   "mimetype": "text/x-python",
   "name": "python",
   "nbconvert_exporter": "python",
   "pygments_lexer": "ipython3",
   "version": "3.9.13"
  }
 },
 "nbformat": 4,
 "nbformat_minor": 5
}
